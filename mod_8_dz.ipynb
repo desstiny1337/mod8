{
  "nbformat": 4,
  "nbformat_minor": 0,
  "metadata": {
    "colab": {
      "provenance": []
    },
    "kernelspec": {
      "name": "python3",
      "display_name": "Python 3"
    },
    "language_info": {
      "name": "python"
    }
  },
  "cells": [
    {
      "cell_type": "code",
      "execution_count": null,
      "metadata": {
        "id": "lfRBpId36-Zc"
      },
      "outputs": [],
      "source": [
        "!unzip /content/data123/homework.zip"
      ]
    },
    {
      "cell_type": "code",
      "source": [
        "import pandas as pd\n",
        "import os\n",
        "from sklearn.model_selection import train_test_split\n",
        "from sklearn.preprocessing import StandardScaler\n",
        "from sklearn.svm import SVC\n",
        "from sklearn.ensemble import RandomForestClassifier\n",
        "from sklearn.metrics import classification_report\n",
        "\n",
        "def load_data_from_directory(directory):\n",
        "    data_frames = []\n",
        "    for activity in ['idle', 'running', 'stairs', 'walking']:\n",
        "        activity_path = os.path.join(directory, activity)\n",
        "        for file in os.listdir(activity_path):\n",
        "            if file.endswith('.csv'):\n",
        "                file_path = os.path.join(activity_path, file)\n",
        "                df = pd.read_csv(file_path)\n",
        "                df['Activity'] = activity\n",
        "                data_frames.append(df)\n",
        "    return pd.concat(data_frames, ignore_index=True)\n",
        "\n",
        "path = ('/content/data')\n",
        "data = load_data_from_directory(path)\n",
        "\n",
        "features = data[['accelerometer_X', 'accelerometer_Y', 'accelerometer_Z']]\n",
        "target = data['Activity']\n",
        "\n",
        "data['mean_x'] = data['accelerometer_X'].rolling(window=50).mean()\n",
        "data['mean_y'] = data['accelerometer_Y'].rolling(window=50).mean()\n",
        "data['mean_z'] = data['accelerometer_Z'].rolling(window=50).mean()\n",
        "\n",
        "X_train, X_test, y_train, y_test = train_test_split(features, target, test_size=0.2, random_state=42)\n",
        "\n",
        "scaler = StandardScaler()\n",
        "X_train = scaler.fit_transform(X_train)\n",
        "X_test = scaler.transform(X_test)\n",
        "\n",
        "svm = SVC(kernel='linear')\n",
        "svm.fit(X_train, y_train)\n",
        "y_pred_svm = svm.predict(X_test)\n",
        "print(\"SVM Classification Report:\")\n",
        "print(classification_report(y_test, y_pred_svm))\n",
        "\n",
        "rf = RandomForestClassifier(n_estimators=100)\n",
        "rf.fit(X_train, y_train)\n",
        "y_pred_rf = rf.predict(X_test)\n",
        "print(\"Random Forest Classification Report:\")\n",
        "print(classification_report(y_test, y_pred_rf))\n"
      ],
      "metadata": {
        "colab": {
          "base_uri": "https://localhost:8080/"
        },
        "id": "BwAgfq5KFyYj",
        "outputId": "a50ac87b-ece1-4b60-deed-54b000d7478f"
      },
      "execution_count": 11,
      "outputs": [
        {
          "output_type": "stream",
          "name": "stdout",
          "text": [
            "SVM Classification Report:\n"
          ]
        },
        {
          "output_type": "stream",
          "name": "stderr",
          "text": [
            "/usr/local/lib/python3.10/dist-packages/sklearn/metrics/_classification.py:1531: UndefinedMetricWarning: Precision is ill-defined and being set to 0.0 in labels with no predicted samples. Use `zero_division` parameter to control this behavior.\n",
            "  _warn_prf(average, modifier, f\"{metric.capitalize()} is\", len(result))\n",
            "/usr/local/lib/python3.10/dist-packages/sklearn/metrics/_classification.py:1531: UndefinedMetricWarning: Precision is ill-defined and being set to 0.0 in labels with no predicted samples. Use `zero_division` parameter to control this behavior.\n",
            "  _warn_prf(average, modifier, f\"{metric.capitalize()} is\", len(result))\n",
            "/usr/local/lib/python3.10/dist-packages/sklearn/metrics/_classification.py:1531: UndefinedMetricWarning: Precision is ill-defined and being set to 0.0 in labels with no predicted samples. Use `zero_division` parameter to control this behavior.\n",
            "  _warn_prf(average, modifier, f\"{metric.capitalize()} is\", len(result))\n"
          ]
        },
        {
          "output_type": "stream",
          "name": "stdout",
          "text": [
            "              precision    recall  f1-score   support\n",
            "\n",
            "        idle       0.82      0.78      0.80      6203\n",
            "     running       0.86      0.85      0.85     20485\n",
            "      stairs       0.00      0.00      0.00      1022\n",
            "     walking       0.76      0.86      0.81     11062\n",
            "\n",
            "    accuracy                           0.82     38772\n",
            "   macro avg       0.61      0.62      0.61     38772\n",
            "weighted avg       0.80      0.82      0.81     38772\n",
            "\n",
            "Random Forest Classification Report:\n",
            "              precision    recall  f1-score   support\n",
            "\n",
            "        idle       1.00      1.00      1.00      6203\n",
            "     running       1.00      1.00      1.00     20485\n",
            "      stairs       1.00      0.99      1.00      1022\n",
            "     walking       1.00      1.00      1.00     11062\n",
            "\n",
            "    accuracy                           1.00     38772\n",
            "   macro avg       1.00      1.00      1.00     38772\n",
            "weighted avg       1.00      1.00      1.00     38772\n",
            "\n"
          ]
        }
      ]
    },
    {
      "cell_type": "code",
      "source": [
        "print(data.columns)"
      ],
      "metadata": {
        "colab": {
          "base_uri": "https://localhost:8080/"
        },
        "id": "9cgj7j2PHxMr",
        "outputId": "0586fb31-ca05-4935-e624-56508e600fc7"
      },
      "execution_count": 6,
      "outputs": [
        {
          "output_type": "stream",
          "name": "stdout",
          "text": [
            "Index(['accelerometer_X', 'accelerometer_Y', 'accelerometer_Z'], dtype='object')\n"
          ]
        }
      ]
    }
  ]
}
