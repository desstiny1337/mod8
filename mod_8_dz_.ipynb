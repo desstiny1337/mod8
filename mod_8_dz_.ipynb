{
  "nbformat": 4,
  "nbformat_minor": 0,
  "metadata": {
    "colab": {
      "provenance": []
    },
    "kernelspec": {
      "name": "python3",
      "display_name": "Python 3"
    },
    "language_info": {
      "name": "python"
    }
  },
  "cells": [
    {
      "cell_type": "code",
      "execution_count": null,
      "metadata": {
        "id": "lfRBpId36-Zc"
      },
      "outputs": [],
      "source": [
        "!unzip /content/sample_data/homework.zip"
      ]
    },
    {
      "cell_type": "code",
      "source": [
        "import pandas as pd\n",
        "import os\n",
        "from sklearn.model_selection import train_test_split\n",
        "from sklearn.preprocessing import StandardScaler\n",
        "from sklearn.svm import SVC\n",
        "from sklearn.ensemble import RandomForestClassifier\n",
        "from sklearn.metrics import classification_report\n",
        "\n",
        "def load_data_from_directory(directory):\n",
        "    data_frames = []\n",
        "    for activity in ['idle', 'running', 'stairs', 'walking']:\n",
        "        activity_path = os.path.join(directory, activity)\n",
        "        for file in os.listdir(activity_path):\n",
        "            if file.endswith('.csv'):\n",
        "                file_path = os.path.join(activity_path, file)\n",
        "                df = pd.read_csv(file_path)\n",
        "                df['Activity'] = activity\n",
        "                data_frames.append(df)\n",
        "    return pd.concat(data_frames, ignore_index=True)\n",
        "\n",
        "path = '/content/data'\n",
        "data = load_data_from_directory(path)\n",
        "\n",
        "data['mean_x'] = data['accelerometer_X'].rolling(window=50).mean()\n",
        "data['mean_y'] = data['accelerometer_Y'].rolling(window=50).mean()\n",
        "data['mean_z'] = data['accelerometer_Z'].rolling(window=50).mean()\n",
        "\n",
        "feature_sets = {\n",
        "    \"Base features\": ['accelerometer_X', 'accelerometer_Y', 'accelerometer_Z'],\n",
        "    \"Base + Rolling Means\": ['accelerometer_X', 'accelerometer_Y', 'accelerometer_Z', 'mean_x', 'mean_y', 'mean_z']\n",
        "}\n",
        "\n",
        "results = {}\n",
        "\n",
        "for feature_name, feature_columns in feature_sets.items():\n",
        "    print(f\"\\n=== {feature_name} ===\")\n",
        "    features = data[feature_columns].dropna()\n",
        "    target = data.loc[features.index, 'Activity']\n",
        "\n",
        "    X_train, X_test, y_train, y_test = train_test_split(features, target, test_size=0.2, random_state=42)\n",
        "\n",
        "    scaler = StandardScaler()\n",
        "    X_train = scaler.fit_transform(X_train)\n",
        "    X_test = scaler.transform(X_test)\n",
        "\n",
        "    svm = SVC(kernel='linear')\n",
        "    svm.fit(X_train, y_train)\n",
        "    y_pred_svm = svm.predict(X_test)\n",
        "    print(\"\\nSVM Classification Report:\")\n",
        "    print(classification_report(y_test, y_pred_svm))\n",
        "\n",
        "    rf = RandomForestClassifier(n_estimators=100)\n",
        "    rf.fit(X_train, y_train)\n",
        "    y_pred_rf = rf.predict(X_test)\n",
        "    print(\"\\nRandom Forest Classification Report:\")\n",
        "    print(classification_report(y_test, y_pred_rf))\n",
        "\n",
        "    results[feature_name] = {\n",
        "        \"SVM\": classification_report(y_test, y_pred_svm, output_dict=True),\n",
        "        \"Random Forest\": classification_report(y_test, y_pred_rf, output_dict=True)\n",
        "    }\n",
        "\n",
        "print(\"\\n=== Порівняння моделей ===\")\n",
        "for feature_name, result in results.items():\n",
        "    print(f\"\\n=== {feature_name} ===\")\n",
        "    print(f\"SVM Accuracy: {result['SVM']['accuracy']:.2f}\")\n",
        "    print(f\"Random Forest Accuracy: {result['Random Forest']['accuracy']:.2f}\")\n"
      ],
      "metadata": {
        "colab": {
          "base_uri": "https://localhost:8080/"
        },
        "id": "BwAgfq5KFyYj",
        "outputId": "30af9c87-c34e-42cf-e5e3-22e9a6c0a1c1"
      },
      "execution_count": 3,
      "outputs": [
        {
          "output_type": "stream",
          "name": "stdout",
          "text": [
            "\n",
            "=== Base features ===\n",
            "\n",
            "SVM Classification Report:\n"
          ]
        },
        {
          "output_type": "stream",
          "name": "stderr",
          "text": [
            "/usr/local/lib/python3.10/dist-packages/sklearn/metrics/_classification.py:1531: UndefinedMetricWarning: Precision is ill-defined and being set to 0.0 in labels with no predicted samples. Use `zero_division` parameter to control this behavior.\n",
            "  _warn_prf(average, modifier, f\"{metric.capitalize()} is\", len(result))\n",
            "/usr/local/lib/python3.10/dist-packages/sklearn/metrics/_classification.py:1531: UndefinedMetricWarning: Precision is ill-defined and being set to 0.0 in labels with no predicted samples. Use `zero_division` parameter to control this behavior.\n",
            "  _warn_prf(average, modifier, f\"{metric.capitalize()} is\", len(result))\n",
            "/usr/local/lib/python3.10/dist-packages/sklearn/metrics/_classification.py:1531: UndefinedMetricWarning: Precision is ill-defined and being set to 0.0 in labels with no predicted samples. Use `zero_division` parameter to control this behavior.\n",
            "  _warn_prf(average, modifier, f\"{metric.capitalize()} is\", len(result))\n"
          ]
        },
        {
          "output_type": "stream",
          "name": "stdout",
          "text": [
            "              precision    recall  f1-score   support\n",
            "\n",
            "        idle       0.81      0.78      0.80      6203\n",
            "     running       0.86      0.85      0.85     20485\n",
            "      stairs       0.00      0.00      0.00      1022\n",
            "     walking       0.77      0.86      0.81     11062\n",
            "\n",
            "    accuracy                           0.82     38772\n",
            "   macro avg       0.61      0.62      0.62     38772\n",
            "weighted avg       0.80      0.82      0.81     38772\n",
            "\n",
            "\n",
            "Random Forest Classification Report:\n",
            "              precision    recall  f1-score   support\n",
            "\n",
            "        idle       1.00      1.00      1.00      6203\n",
            "     running       1.00      1.00      1.00     20485\n",
            "      stairs       1.00      0.99      0.99      1022\n",
            "     walking       1.00      1.00      1.00     11062\n",
            "\n",
            "    accuracy                           1.00     38772\n",
            "   macro avg       1.00      1.00      1.00     38772\n",
            "weighted avg       1.00      1.00      1.00     38772\n",
            "\n"
          ]
        },
        {
          "output_type": "stream",
          "name": "stderr",
          "text": [
            "/usr/local/lib/python3.10/dist-packages/sklearn/metrics/_classification.py:1531: UndefinedMetricWarning: Precision is ill-defined and being set to 0.0 in labels with no predicted samples. Use `zero_division` parameter to control this behavior.\n",
            "  _warn_prf(average, modifier, f\"{metric.capitalize()} is\", len(result))\n",
            "/usr/local/lib/python3.10/dist-packages/sklearn/metrics/_classification.py:1531: UndefinedMetricWarning: Precision is ill-defined and being set to 0.0 in labels with no predicted samples. Use `zero_division` parameter to control this behavior.\n",
            "  _warn_prf(average, modifier, f\"{metric.capitalize()} is\", len(result))\n",
            "/usr/local/lib/python3.10/dist-packages/sklearn/metrics/_classification.py:1531: UndefinedMetricWarning: Precision is ill-defined and being set to 0.0 in labels with no predicted samples. Use `zero_division` parameter to control this behavior.\n",
            "  _warn_prf(average, modifier, f\"{metric.capitalize()} is\", len(result))\n"
          ]
        },
        {
          "output_type": "stream",
          "name": "stdout",
          "text": [
            "\n",
            "=== Base + Rolling Means ===\n",
            "\n",
            "SVM Classification Report:\n",
            "              precision    recall  f1-score   support\n",
            "\n",
            "        idle       1.00      1.00      1.00      6191\n",
            "     running       1.00      1.00      1.00     20426\n",
            "      stairs       0.81      0.64      0.72       981\n",
            "     walking       0.97      0.99      0.98     11165\n",
            "\n",
            "    accuracy                           0.99     38763\n",
            "   macro avg       0.95      0.91      0.92     38763\n",
            "weighted avg       0.99      0.99      0.99     38763\n",
            "\n",
            "\n",
            "Random Forest Classification Report:\n",
            "              precision    recall  f1-score   support\n",
            "\n",
            "        idle       1.00      1.00      1.00      6191\n",
            "     running       1.00      1.00      1.00     20426\n",
            "      stairs       0.88      0.74      0.80       981\n",
            "     walking       0.98      0.99      0.98     11165\n",
            "\n",
            "    accuracy                           0.99     38763\n",
            "   macro avg       0.96      0.93      0.95     38763\n",
            "weighted avg       0.99      0.99      0.99     38763\n",
            "\n",
            "\n",
            "=== Порівняння моделей ===\n",
            "\n",
            "=== Base features ===\n",
            "SVM Accuracy: 0.82\n",
            "Random Forest Accuracy: 1.00\n",
            "\n",
            "=== Base + Rolling Means ===\n",
            "SVM Accuracy: 0.99\n",
            "Random Forest Accuracy: 0.99\n"
          ]
        }
      ]
    },
    {
      "cell_type": "code",
      "source": [
        "print(data.columns)"
      ],
      "metadata": {
        "colab": {
          "base_uri": "https://localhost:8080/"
        },
        "id": "9cgj7j2PHxMr",
        "outputId": "ea2fc260-db30-43d4-db4d-c8fdb2901cd8"
      },
      "execution_count": 4,
      "outputs": [
        {
          "output_type": "stream",
          "name": "stdout",
          "text": [
            "Index(['accelerometer_X', 'accelerometer_Y', 'accelerometer_Z', 'Activity',\n",
            "       'mean_x', 'mean_y', 'mean_z'],\n",
            "      dtype='object')\n"
          ]
        }
      ]
    }
  ]
}